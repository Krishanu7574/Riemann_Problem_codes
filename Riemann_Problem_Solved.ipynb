{
 "cells": [
  {
   "cell_type": "code",
   "execution_count": 3,
   "id": "26820482-d8f9-49da-9b25-e09402ccad3b",
   "metadata": {},
   "outputs": [],
   "source": [
    "%matplotlib inline\n",
    "import matplotlib\n",
    "from matplotlib import pyplot \n",
    "import numpy as np\n",
    "from matplotlib import rcParams\n",
    "rcParams['font.family'] = 'serif'\n",
    "rcParams['font.size'] = 16"
   ]
  },
  {
   "cell_type": "code",
   "execution_count": 4,
   "id": "43f329bf",
   "metadata": {},
   "outputs": [],
   "source": [
    "gamma = 1.4     #Гамма, она же каппа\n",
    "#Различные формулы из гаммы\n",
    "g_m_1_over_2g = (gamma-1)/2/gamma      #g1\n",
    "g_p_1_over_2g = (gamma+1)/2/gamma      #g2\n",
    "g_m_1_over_2g_inv = 1/g_m_1_over_2g    #g3\n",
    "g_m_1_over_2_inv = 2/(gamma-1)         #g4\n",
    "g_p_1_over_2_inv = 2/(gamma+1)         #g5\n",
    "g_m_1_over_g_p_1 = (gamma-1)/(gamma+1) #g6\n",
    "g_m_1_over_2 = (gamma-1)/2             #g7\n",
    "g_m_1 = gamma-1  \n",
    "\n",
    "tol = 1e-8"
   ]
  },
  {
   "cell_type": "code",
   "execution_count": 2,
   "id": "119cd33f",
   "metadata": {},
   "outputs": [],
   "source": [
    "def sound_speed(W):\n",
    "    d = W[0]\n",
    "    p = W[2]\n",
    "    return (gamma*(p/d))**0.5"
   ]
  },
  {
   "cell_type": "code",
   "execution_count": 5,
   "id": "7aa5964b",
   "metadata": {},
   "outputs": [],
   "source": [
    "def enthalpy(W):\n",
    "    return 0.5*W[1]**2 + gamma/ g_m_1 *(W[2]/W[0])"
   ]
  },
  {
   "cell_type": "code",
   "execution_count": 6,
   "id": "0699fbc8",
   "metadata": {},
   "outputs": [],
   "source": [
    "def init(case):\n",
    "    if case == 'sod':\n",
    "        W_l = np.array([1, 0.75, 1])\n",
    "        W_r = np.array([0.125, 0, 0.1])\n",
    "        t = 0.25\n",
    "    elif case == '123':\n",
    "        W_l = np.array([1, -2, 0.4])\n",
    "        W_r = np.array([1, 2, 0.4])\n",
    "        t = 0.15\n",
    "    elif case == 'left-woodward':\n",
    "        W_l = np.array([1, 0, 1000])\n",
    "        W_r = np.array([1, 0, 0.1])\n",
    "        \n",
    "        t = 0.012\n",
    "    else : print('Unknown case!')\n",
    "    return W_l, W_r, t"
   ]
  },
  {
   "cell_type": "code",
   "execution_count": 7,
   "id": "fd823a1e",
   "metadata": {},
   "outputs": [],
   "source": [
    "def U_to_W(U):\n",
    "    W = np.zeros_like(U)\n",
    "    W[0] = U[0]\n",
    "    W[1] = U[1]/U[0]\n",
    "    W[2] = g_m_1*(U[2] - 0.5*U[1]**2/U[0])\n",
    "    return W"
   ]
  },
  {
   "cell_type": "code",
   "execution_count": 8,
   "id": "6c86bfde",
   "metadata": {},
   "outputs": [],
   "source": [
    "def W_to_U(W):\n",
    "    U = np.zeros_like(W)\n",
    "    U[0] = W[0]\n",
    "    U[1] = W[1]*W[0]\n",
    "    U[2] = 0.5*W[1]**2*W[0]+W[2]/ g_m_1\n",
    "    return U"
   ]
  },
  {
   "cell_type": "code",
   "execution_count": 9,
   "id": "4813364e",
   "metadata": {},
   "outputs": [],
   "source": [
    "def flux(W):\n",
    "    F = np.zeros_like(W)\n",
    "    F[0] = W[1]*W[0]\n",
    "    F[1] = W[1]**2*W[0] + W[2]\n",
    "    F[2] = W[1]*(0.5*W[1]**2*W[0]+W[2]/ g_m_1 + W[2])\n",
    "    return F"
   ]
  },
  {
   "cell_type": "code",
   "execution_count": 10,
   "id": "a557ef77",
   "metadata": {},
   "outputs": [],
   "source": [
    "def roe_average(Wl,Wr):\n",
    "    denom = Wl[0]**0.5 + Wr[0]**0.5\n",
    "    u_tilda = (Wl[0]**0.5 * Wl[1] + Wr[0]**0.5 * Wr[1])/ denom\n",
    "    H_tilda = (Wl[0]**0.5 * enthalpy(Wl) + Wr[0]**0.5 * enthalpy(Wr))/ denom\n",
    "    a_tilda = (g_m_1*(H_tilda - 0.5*u_tilda**2))**0.5\n",
    "    return u_tilda, H_tilda, a_tilda "
   ]
  },
  {
   "cell_type": "code",
   "execution_count": 11,
   "id": "426fc3ab",
   "metadata": {},
   "outputs": [],
   "source": [
    "def roe_eigen_values(roe_average):\n",
    "    lambdas = np.zeros(3)\n",
    "    lambdas[0] = roe_average[0] - roe_average[2]\n",
    "    lambdas[1] = roe_average[0] \n",
    "    lambdas[2] = roe_average[0] + roe_average[2]\n",
    "    return lambdas"
   ]
  },
  {
   "cell_type": "code",
   "execution_count": 12,
   "id": "6ff29a4e",
   "metadata": {},
   "outputs": [],
   "source": [
    "def roe_eigen_vectors(roe_average):\n",
    "    K = np.zeros((3,3))\n",
    "    K[0] = np.asarray([1, \n",
    "                       roe_average[0] - roe_average[2], \n",
    "                       roe_average[1] - roe_average[0] * roe_average[2] ])\n",
    "    K[1] = np.asarray([1, \n",
    "                       roe_average[0] , \n",
    "                       0.5*roe_average[0] **2 ])\n",
    "    K[2] = np.asarray([1, \n",
    "                       roe_average[0] + roe_average[2], \n",
    "                       roe_average[1] + roe_average[0] * roe_average[2] ])\n",
    "    return K"
   ]
  },
  {
   "cell_type": "code",
   "execution_count": 13,
   "id": "683fd3e6",
   "metadata": {},
   "outputs": [],
   "source": [
    "def alfas(dU, roe_average):\n",
    "    alfas = np.zeros(3)\n",
    "    alfas[1] = g_m_1/roe_average[2]**2*(dU[0]*(roe_average[1] - roe_average[0]**2) + dU[1]*roe_average[0] - dU[2] )\n",
    "    alfas[0] = 0.5/roe_average[2]*(dU[0]*(roe_average[0] + roe_average[2]) - dU[1] - roe_average[2]*alfas[1])\n",
    "    alfas[2] = dU[0] - (alfas[0] +alfas[1])\n",
    "    return alfas"
   ]
  },
  {
   "cell_type": "code",
   "execution_count": 14,
   "id": "f08b1a1a",
   "metadata": {},
   "outputs": [],
   "source": [
    "def roe_flux(Wl,Wr):\n",
    "    Fl,Fr = flux(Wl),flux(Wr)\n",
    "    averages = roe_average(Wl,Wr)\n",
    "    lambdas = roe_eigen_values(averages)\n",
    "    K = roe_eigen_vectors(averages)\n",
    "    alphas = alfas(W_to_U(Wr) - W_to_U(Wl), averages)\n",
    "    roe_flux = 0.5*(Fl + Fr - np.dot(alphas*abs(lambdas),K))\n",
    "    return roe_flux"
   ]
  },
  {
   "cell_type": "code",
   "execution_count": 15,
   "id": "85b132ac",
   "metadata": {},
   "outputs": [],
   "source": [
    "N_points = 101\n",
    "x = np.linspace(0,1,N_points)\n",
    "decay_pos = 0.3\n",
    "W_correct= np.zeros((N_points,3))"
   ]
  },
  {
   "cell_type": "code",
   "execution_count": 16,
   "id": "37a0a83c",
   "metadata": {},
   "outputs": [],
   "source": [
    "dx = 1./(N_points - 1)\n",
    "sigma = 0.9\n",
    "\n",
    "W = np.zeros((N_points,3))\n",
    "fluxes = np.zeros((N_points - 1,3))\n",
    "U = np.zeros_like(W) "
   ]
  },
  {
   "cell_type": "code",
   "execution_count": 17,
   "id": "8021a5b7",
   "metadata": {},
   "outputs": [],
   "source": [
    "W_l,W_r,t = init('sod')\n",
    "W[np.where(x<decay_pos),:] = W_l\n",
    "W[np.where(x>=decay_pos),:] = W_r"
   ]
  },
  {
   "cell_type": "code",
   "execution_count": 18,
   "id": "bed2f2a6",
   "metadata": {},
   "outputs": [],
   "source": [
    "t_ = 0\n",
    "#dt = 0.0002\n",
    "U_n = np.copy(U)\n",
    "while t_<t:\n",
    "    U = W_to_U(W.T).T\n",
    "    roe_fluxes = np.zeros((N_points - 1,3))\n",
    "    speeds = np.zeros(N_points - 1)\n",
    "    for i,x_ in enumerate(x[:-1]):\n",
    "        \n",
    "        roe_fluxes[i] =roe_flux(W[i],W[i+1])\n",
    "        c_l = sound_speed(W[i])\n",
    "        c_r = sound_speed(W[i+1])\n",
    "        speeds[i] = max(abs(W[i][1])+c_l,abs(W[i+1][1])+  c_r)\n",
    "\n",
    "    \n",
    "    dt = sigma*dx/max(speeds)\n",
    "    U_n[1:-1,:] = U[1:-1,:] + dt/dx*(roe_fluxes[:-1,:]-roe_fluxes[1:,:]) \n",
    "    U_n[0,:] = U_n[1,:]\n",
    "    U_n[-1,:] = U_n[-2,:]\n",
    "    W = U_to_W(U_n.T).T\n",
    "    t_=t_+dt"
   ]
  },
  {
   "cell_type": "code",
   "execution_count": 19,
   "id": "b0a75aaa",
   "metadata": {},
   "outputs": [],
   "source": [
    "%store -r"
   ]
  },
  {
   "cell_type": "code",
   "execution_count": 21,
   "id": "9a704110",
   "metadata": {},
   "outputs": [
    {
     "name": "stderr",
     "output_type": "stream",
     "text": [
      "/tmp/ipykernel_13712/2478105999.py:10: UserWarning: Attempting to set identical low and high ylims makes transformation singular; automatically expanding.\n",
      "  ax.set_ylim(0.5*(max(W_c)+min(W_c) - scale_y), 0.5*(max(W_c)+min(W_c) + scale_y))\n"
     ]
    },
    {
     "data": {
      "image/png": "[encoded data removed]",
      "text/plain": [
       "<Figure size 1800x600 with 3 Axes>"
      ]
     },
     "metadata": {},
     "output_type": "display_data"
    }
   ],
   "source": [
    "fig,axs = pyplot.subplots(1,3,figsize=(18,6) )\n",
    "\n",
    "for ax, W_,  W_c, y_label in zip(axs, W.T,  W_correct.T, (r'$\\rho$',r'$u$',r'$p$') ):\n",
    "    ax.plot(x,W_,'o',label='Roe')\n",
    "#    ax.plot(x,W_g_,'o',label='Godunov')\n",
    "    ax.plot(x,W_c,label='Exact')\n",
    "    ax.set_ylabel(y_label)\n",
    "    ax.set_xlabel('x')\n",
    "    scale_y = 1.1*abs(max(W_c)-min(W_c))\n",
    "    ax.set_ylim(0.5*(max(W_c)+min(W_c) - scale_y), 0.5*(max(W_c)+min(W_c) + scale_y))\n",
    "    ax.legend(loc='best')\n",
    "    ax.grid()\n",
    "    "
   ]
  },
  {
   "cell_type": "code",
   "execution_count": null,
   "id": "9410e992",
   "metadata": {},
   "outputs": [],
   "source": []
  }
 ],
 "metadata": {
  "kernelspec": {
   "display_name": "Python 3 (ipykernel)",
   "language": "python",
   "name": "python3"
  },
  "language_info": {
   "codemirror_mode": {
    "name": "ipython",
    "version": 3
   },
   "file_extension": ".py",
   "mimetype": "text/x-python",
   "name": "python",
   "nbconvert_exporter": "python",
   "pygments_lexer": "ipython3",
   "version": "3.12.3"
  }
 },
 "nbformat": 4,
 "nbformat_minor": 5
}
